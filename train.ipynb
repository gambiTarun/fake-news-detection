{
 "cells": [
  {
   "cell_type": "code",
   "execution_count": 1,
   "metadata": {},
   "outputs": [
    {
     "name": "stderr",
     "output_type": "stream",
     "text": [
      "C:\\Users\\Tarunbir Singh\\Anaconda3\\lib\\site-packages\\h5py\\__init__.py:34: FutureWarning: Conversion of the second argument of issubdtype from `float` to `np.floating` is deprecated. In future, it will be treated as `np.float64 == np.dtype(float).type`.\n",
      "  from ._conv import register_converters as _register_converters\n"
     ]
    }
   ],
   "source": [
    "import tensorflow as tf\n",
    "from sklearn.metrics import confusion_matrix, classification_report\n",
    "from sklearn.metrics import precision_recall_fscore_support\n",
    "from sklearn import svm\n",
    "from sklearn.model_selection import train_test_split\n",
    "from sklearn.feature_extraction.text import TfidfVectorizer, CountVectorizer\n",
    "from sklearn.decomposition import TruncatedSVD\n",
    "import pandas as pd\n",
    "import nltk\n",
    "import numpy as np\n",
    "import re\n",
    "from time import time\n",
    "import matplotlib.pyplot as plt\n",
    "from wordcloud import WordCloud,STOPWORDS"
   ]
  },
  {
   "cell_type": "code",
   "execution_count": 2,
   "metadata": {},
   "outputs": [],
   "source": [
    "fake_news = pd.read_csv(\"Kaggle_dataset/fake_13k.csv\" , usecols=[\"uuid\",\"author\",\"title\",\"text\",\"country\",\"type\",\"language\"])"
   ]
  },
  {
   "cell_type": "code",
   "execution_count": 4,
   "metadata": {},
   "outputs": [
    {
     "data": {
      "text/html": [
       "<div>\n",
       "<style scoped>\n",
       "    .dataframe tbody tr th:only-of-type {\n",
       "        vertical-align: middle;\n",
       "    }\n",
       "\n",
       "    .dataframe tbody tr th {\n",
       "        vertical-align: top;\n",
       "    }\n",
       "\n",
       "    .dataframe thead th {\n",
       "        text-align: right;\n",
       "    }\n",
       "</style>\n",
       "<table border=\"1\" class=\"dataframe\">\n",
       "  <thead>\n",
       "    <tr style=\"text-align: right;\">\n",
       "      <th></th>\n",
       "      <th>uuid</th>\n",
       "      <th>author</th>\n",
       "      <th>title</th>\n",
       "      <th>text</th>\n",
       "      <th>language</th>\n",
       "      <th>country</th>\n",
       "      <th>type</th>\n",
       "    </tr>\n",
       "  </thead>\n",
       "  <tbody>\n",
       "    <tr>\n",
       "      <th>0</th>\n",
       "      <td>6a175f46bcd24d39b3e962ad0f29936721db70db</td>\n",
       "      <td>Barracuda Brigade</td>\n",
       "      <td>Muslims BUSTED: They Stole Millions In Gov’t B...</td>\n",
       "      <td>Print They should pay all the back all the mon...</td>\n",
       "      <td>english</td>\n",
       "      <td>US</td>\n",
       "      <td>bias</td>\n",
       "    </tr>\n",
       "    <tr>\n",
       "      <th>1</th>\n",
       "      <td>2bdc29d12605ef9cf3f09f9875040a7113be5d5b</td>\n",
       "      <td>reasoning with facts</td>\n",
       "      <td>Re: Why Did Attorney General Loretta Lynch Ple...</td>\n",
       "      <td>Why Did Attorney General Loretta Lynch Plead T...</td>\n",
       "      <td>english</td>\n",
       "      <td>US</td>\n",
       "      <td>bias</td>\n",
       "    </tr>\n",
       "    <tr>\n",
       "      <th>2</th>\n",
       "      <td>c70e149fdd53de5e61c29281100b9de0ed268bc3</td>\n",
       "      <td>Barracuda Brigade</td>\n",
       "      <td>BREAKING: Weiner Cooperating With FBI On Hilla...</td>\n",
       "      <td>Red State : \\nFox News Sunday reported this mo...</td>\n",
       "      <td>english</td>\n",
       "      <td>US</td>\n",
       "      <td>bias</td>\n",
       "    </tr>\n",
       "    <tr>\n",
       "      <th>3</th>\n",
       "      <td>7cf7c15731ac2a116dd7f629bd57ea468ed70284</td>\n",
       "      <td>Fed Up</td>\n",
       "      <td>PIN DROP SPEECH BY FATHER OF DAUGHTER Kidnappe...</td>\n",
       "      <td>Email Kayla Mueller was a prisoner and torture...</td>\n",
       "      <td>english</td>\n",
       "      <td>US</td>\n",
       "      <td>bias</td>\n",
       "    </tr>\n",
       "    <tr>\n",
       "      <th>4</th>\n",
       "      <td>0206b54719c7e241ffe0ad4315b808290dbe6c0f</td>\n",
       "      <td>Fed Up</td>\n",
       "      <td>FANTASTIC! TRUMP'S 7 POINT PLAN To Reform Heal...</td>\n",
       "      <td>Email HEALTHCARE REFORM TO MAKE AMERICA GREAT ...</td>\n",
       "      <td>english</td>\n",
       "      <td>US</td>\n",
       "      <td>bias</td>\n",
       "    </tr>\n",
       "  </tbody>\n",
       "</table>\n",
       "</div>"
      ],
      "text/plain": [
       "                                       uuid                author  \\\n",
       "0  6a175f46bcd24d39b3e962ad0f29936721db70db     Barracuda Brigade   \n",
       "1  2bdc29d12605ef9cf3f09f9875040a7113be5d5b  reasoning with facts   \n",
       "2  c70e149fdd53de5e61c29281100b9de0ed268bc3     Barracuda Brigade   \n",
       "3  7cf7c15731ac2a116dd7f629bd57ea468ed70284                Fed Up   \n",
       "4  0206b54719c7e241ffe0ad4315b808290dbe6c0f                Fed Up   \n",
       "\n",
       "                                               title  \\\n",
       "0  Muslims BUSTED: They Stole Millions In Gov’t B...   \n",
       "1  Re: Why Did Attorney General Loretta Lynch Ple...   \n",
       "2  BREAKING: Weiner Cooperating With FBI On Hilla...   \n",
       "3  PIN DROP SPEECH BY FATHER OF DAUGHTER Kidnappe...   \n",
       "4  FANTASTIC! TRUMP'S 7 POINT PLAN To Reform Heal...   \n",
       "\n",
       "                                                text language country  type  \n",
       "0  Print They should pay all the back all the mon...  english      US  bias  \n",
       "1  Why Did Attorney General Loretta Lynch Plead T...  english      US  bias  \n",
       "2  Red State : \\nFox News Sunday reported this mo...  english      US  bias  \n",
       "3  Email Kayla Mueller was a prisoner and torture...  english      US  bias  \n",
       "4  Email HEALTHCARE REFORM TO MAKE AMERICA GREAT ...  english      US  bias  "
      ]
     },
     "execution_count": 4,
     "metadata": {},
     "output_type": "execute_result"
    }
   ],
   "source": [
    "fake_news.head(5)"
   ]
  },
  {
   "cell_type": "code",
   "execution_count": 3,
   "metadata": {
    "scrolled": true
   },
   "outputs": [
    {
     "data": {
      "text/plain": [
       "type\n",
       "bias            443\n",
       "bs            11492\n",
       "conspiracy      430\n",
       "fake             19\n",
       "hate            246\n",
       "junksci         102\n",
       "satire          146\n",
       "state           121\n",
       "dtype: int64"
      ]
     },
     "execution_count": 3,
     "metadata": {},
     "output_type": "execute_result"
    }
   ],
   "source": [
    "fake_news.groupby([\"type\"]).size()"
   ]
  },
  {
   "cell_type": "code",
   "execution_count": 5,
   "metadata": {},
   "outputs": [],
   "source": [
    "# Categorizing all data as 'fake'\n",
    "fake_news['type'] = 'fake'"
   ]
  },
  {
   "cell_type": "code",
   "execution_count": 7,
   "metadata": {},
   "outputs": [
    {
     "data": {
      "text/plain": [
       "type\n",
       "fake    12999\n",
       "dtype: int64"
      ]
     },
     "execution_count": 7,
     "metadata": {},
     "output_type": "execute_result"
    }
   ],
   "source": [
    "fake_news.groupby([\"type\"]).size()"
   ]
  },
  {
   "cell_type": "code",
   "execution_count": 6,
   "metadata": {},
   "outputs": [
    {
     "data": {
      "text/plain": [
       "(12999, 7)"
      ]
     },
     "execution_count": 6,
     "metadata": {},
     "output_type": "execute_result"
    }
   ],
   "source": [
    "fake_news.shape"
   ]
  },
  {
   "cell_type": "code",
   "execution_count": 8,
   "metadata": {},
   "outputs": [],
   "source": [
    "# removing all non-english articles\n",
    "fake_news = fake_news[fake_news.language == \"english\"]\n",
    "fake_news = fake_news[['title','text','type']].rename(columns={'title':'headline','text':'body'})"
   ]
  },
  {
   "cell_type": "code",
   "execution_count": 10,
   "metadata": {},
   "outputs": [],
   "source": [
    "def filter_nan(dataset):   \n",
    "    # changing the NaN values in titles to \"\"\n",
    "    # It is managable without the title so do not delete such datapoints\n",
    "    dataset.headline.fillna(value=\"\",inplace=True)   \n",
    "\n",
    "    # deleting the row with NaN text\n",
    "    # No text body, datapoint useless\n",
    "    dataset.dropna(axis=0, inplace=True, subset=[\"body\"])\n",
    "\n",
    "    # deleting the row having less than 100 characters in body\n",
    "    # No text body, datapoint useless\n",
    "    dataset = dataset[np.array([len(i.split()) for i in dataset.body]) > 100]\n",
    "    dataset.reset_index(inplace=True,drop=True)\n",
    "    return dataset"
   ]
  },
  {
   "cell_type": "code",
   "execution_count": 9,
   "metadata": {},
   "outputs": [],
   "source": [
    "stopword = set(STOPWORDS)\n",
    "\n",
    "# Text Cleaning\n",
    "\n",
    "def rem_specialChar(text):\n",
    "    # removing html tags\n",
    "    text = re.sub(\"<.*?>\",\"\",text)\n",
    "    # removing websites, email addresses or any punctuation\n",
    "    # changing \"*http(s)*\", \"*www*\" or \"*@*\" with \" \"\n",
    "    # \\S+ means anything except whitespace char >=1 times\n",
    "    text = re.sub(\"((\\S+)?(http(s)?)(\\S+))|((\\S+)?(www)(\\S+))|((\\S+)?(\\@)(\\S+)?)\", \"\", text)\n",
    "    # changing anything except alphabets to \" \"\n",
    "    text = re.sub(\"[^a-zA-Z]\",\" \",text)\n",
    "    # lower casing\n",
    "    text= text.lower()\n",
    "    return text\n",
    "\n",
    "def stopword_remove(text):\n",
    "    word_list = nltk.word_tokenize(text)\n",
    "    # remove all the stopwords in the word_list\n",
    "    return ' '.join([w for w in word_list if w not in stopword])\n",
    "\n",
    "# stemmer object -> to apply stemming -> reducing all the words to its root word\n",
    "stemmer = nltk.stem.porter.PorterStemmer()\n",
    "\n",
    "def stem_words(text):\n",
    "    word_list = nltk.word_tokenize(text)\n",
    "    # removing all the single letters from the word_list\n",
    "    word_list = [w for w in word_list if len(w) > 1]\n",
    "    # reduce all family words to parent word\n",
    "    word_list = [stemmer.stem(w) for w in word_list]\n",
    "    return ' '.join(word_list)\n",
    "\n",
    "# # Example, number of character reduction can be seen\n",
    "# print(len(fake_dataset.body[0]))\n",
    "# stage0 = rem_specialChar(fake_dataset.body[0])\n",
    "# stage1 = stopword_remove(stage0)\n",
    "# stage2 = stem_words(stage1)\n",
    "# print(len(stage0))\n",
    "# print(len(stage1))\n",
    "# print(len(stage2))"
   ]
  },
  {
   "cell_type": "markdown",
   "metadata": {},
   "source": [
    "## WORDCLOUD"
   ]
  },
  {
   "cell_type": "code",
   "execution_count": 11,
   "metadata": {},
   "outputs": [],
   "source": [
    "# def filter_body_wordcloud(dataset):\n",
    "#     # Cleaning only (for wordcloud), \n",
    "#     # Stopword removal done in wordcloud (inbuilt) and Stemming not required\n",
    "#     t1 = time()\n",
    "#     # cleaning text of special web and email addresses\n",
    "#     clean_dataset_body_list = [rem_specialChar(i) for i in dataset.body]\n",
    "\n",
    "#     print(\"Time taken to clean all the body(s): {0:.2f} min\".format((time()-t1)/60))\n",
    "#     return clean_dataset_body_list\n",
    "\n",
    "# def wordcloud(clean_dataset_body_list,str_):\n",
    "#     t1 = time()\n",
    "#     # creating a WordCloud to see the Type of Content in the text\n",
    "#     wordcloud = WordCloud(\n",
    "#                     background_color=\"white\",\n",
    "#                     stopwords=stopword,\n",
    "#                     max_words=200,\n",
    "#                     max_font_size=40,\n",
    "#                     random_state=42\n",
    "#     ).generate(str(clean_dataset_body_list))\n",
    "\n",
    "#     print(\"Time taken to generate wordcloud: {0:.2f} min\".format((time()-t1)/60))\n",
    "    \n",
    "#     fig = plt.figure(1)\n",
    "#     plt.imshow(wordcloud)\n",
    "#     plt.axis('off')\n",
    "#     plt.show()\n",
    "#     fig.savefig(str_+\".png\", dpi=900)"
   ]
  },
  {
   "cell_type": "code",
   "execution_count": 12,
   "metadata": {},
   "outputs": [],
   "source": [
    "#wordcloud(filter_body_wordcloud(fake_news),\"fake_dataset_wordcloud\")"
   ]
  },
  {
   "cell_type": "markdown",
   "metadata": {},
   "source": [
    "### Wordcloud shows that the fake news articles have news in the genre of Politics, Business, Global News, US-elections etc."
   ]
  },
  {
   "cell_type": "code",
   "execution_count": 13,
   "metadata": {},
   "outputs": [],
   "source": [
    "real_news = pd.read_csv(\"Kaggle_dataset/real_67k.csv\")"
   ]
  },
  {
   "cell_type": "code",
   "execution_count": 14,
   "metadata": {},
   "outputs": [],
   "source": [
    "#wordcloud(filter_body_wordcloud(real_news),\"real_dataset_wordcloud\")"
   ]
  },
  {
   "cell_type": "code",
   "execution_count": 16,
   "metadata": {
    "scrolled": true
   },
   "outputs": [
    {
     "data": {
      "text/plain": [
       "(67656, 3)"
      ]
     },
     "execution_count": 16,
     "metadata": {},
     "output_type": "execute_result"
    }
   ],
   "source": [
    "real_news = real_news.assign(type = 'real')\n",
    "real_news.shape"
   ]
  },
  {
   "cell_type": "code",
   "execution_count": 16,
   "metadata": {},
   "outputs": [],
   "source": [
    "# removing empty/nan article bodies and articles with less that 100 words\n",
    "fake_dataset = filter_nan(fake_news)\n",
    "real_dataset = filter_nan(real_news)"
   ]
  },
  {
   "cell_type": "code",
   "execution_count": 17,
   "metadata": {},
   "outputs": [],
   "source": [
    "# the dataset is cleaned of any special characters,\n",
    "# and word stemming is done to remove any words with almost similar meaning and\n",
    "# hence will help reduce the tf-idf dimensionality (number of unique words)\n",
    "def clean_body(dataset):\n",
    "    t0 = time()\n",
    "\n",
    "    for i in dataset.index:\n",
    "        dataset.at[i,'body'] = stem_words(rem_specialChar(dataset.body[i]))\n",
    "\n",
    "    print(\"Time taken to cleanUp : %.3f min\" % ((time()-t0)/60))"
   ]
  },
  {
   "cell_type": "code",
   "execution_count": 31,
   "metadata": {},
   "outputs": [],
   "source": [
    "# # cleaning body of special characters that do not mean anything to the content of the article\n",
    "# clean_body(fake_dataset)\n",
    "# clean_body(real_dataset)\n",
    "\n",
    "# # removing empty/nan article bodies and articles with less that 100 words \n",
    "# # (after removing special char and Stemming)\n",
    "# fake_dataset = filter_nan(fake_dataset)\n",
    "# real_dataset = filter_nan(real_dataset)\n",
    "\n",
    "# fake_dataset.to_csv('fake_dataset_clean_body.csv',index=False)\n",
    "# real_dataset.to_csv('real_dataset_clean_body.csv',index=False)\n",
    "\n",
    "fake_dataset = pd.read_csv('fake_dataset_clean_body.csv')\n",
    "real_dataset = pd.read_csv('real_dataset_clean_body.csv')"
   ]
  },
  {
   "cell_type": "code",
   "execution_count": 32,
   "metadata": {},
   "outputs": [
    {
     "data": {
      "text/plain": [
       "(10243, 3)"
      ]
     },
     "execution_count": 32,
     "metadata": {},
     "output_type": "execute_result"
    }
   ],
   "source": [
    "fake_dataset.shape"
   ]
  },
  {
   "cell_type": "code",
   "execution_count": 33,
   "metadata": {},
   "outputs": [
    {
     "data": {
      "text/plain": [
       "(67144, 3)"
      ]
     },
     "execution_count": 33,
     "metadata": {},
     "output_type": "execute_result"
    }
   ],
   "source": [
    "real_dataset.shape"
   ]
  },
  {
   "cell_type": "code",
   "execution_count": 34,
   "metadata": {},
   "outputs": [],
   "source": [
    "# reducing the number of real_dataset datapoints around that of fake_dataset\n",
    "# keeping the fake to non-fake news ratio close to presence in real world media\n",
    "real_dataset = real_dataset.sample(n=45000,random_state=42)\n",
    "real_dataset.reset_index(drop=True, inplace=True)"
   ]
  },
  {
   "cell_type": "code",
   "execution_count": 35,
   "metadata": {},
   "outputs": [],
   "source": [
    "dataset = pd.concat([real_dataset,fake_dataset])\n",
    "dataset.reset_index(drop=True, inplace=True)"
   ]
  },
  {
   "cell_type": "code",
   "execution_count": 36,
   "metadata": {},
   "outputs": [
    {
     "data": {
      "text/html": [
       "<div>\n",
       "<style scoped>\n",
       "    .dataframe tbody tr th:only-of-type {\n",
       "        vertical-align: middle;\n",
       "    }\n",
       "\n",
       "    .dataframe tbody tr th {\n",
       "        vertical-align: top;\n",
       "    }\n",
       "\n",
       "    .dataframe thead th {\n",
       "        text-align: right;\n",
       "    }\n",
       "</style>\n",
       "<table border=\"1\" class=\"dataframe\">\n",
       "  <thead>\n",
       "    <tr style=\"text-align: right;\">\n",
       "      <th></th>\n",
       "      <th>headline</th>\n",
       "      <th>body</th>\n",
       "      <th>type</th>\n",
       "    </tr>\n",
       "  </thead>\n",
       "  <tbody>\n",
       "    <tr>\n",
       "      <th>0</th>\n",
       "      <td>Pakistan arrests Jaish-e-Mohammad members over...</td>\n",
       "      <td>pakistan said it had arrest member of the isla...</td>\n",
       "      <td>real</td>\n",
       "    </tr>\n",
       "    <tr>\n",
       "      <th>1</th>\n",
       "      <td>Second Scottish independence vote not yet on t...</td>\n",
       "      <td>nicola sturgeon ha said second independ refere...</td>\n",
       "      <td>real</td>\n",
       "    </tr>\n",
       "    <tr>\n",
       "      <th>2</th>\n",
       "      <td>UK bans laptops and tablets on flights from si...</td>\n",
       "      <td>the uk govern ha announc sweep cabin ban on la...</td>\n",
       "      <td>real</td>\n",
       "    </tr>\n",
       "    <tr>\n",
       "      <th>3</th>\n",
       "      <td>UK growth prediction for 2018 scaled back to 1...</td>\n",
       "      <td>one of the uk lead econom thinktank ha slash i...</td>\n",
       "      <td>real</td>\n",
       "    </tr>\n",
       "    <tr>\n",
       "      <th>4</th>\n",
       "      <td>EU patients may miss out on medicines in no-de...</td>\n",
       "      <td>pharmaceut giant astrazeneca ha said patient i...</td>\n",
       "      <td>real</td>\n",
       "    </tr>\n",
       "  </tbody>\n",
       "</table>\n",
       "</div>"
      ],
      "text/plain": [
       "                                            headline  \\\n",
       "0  Pakistan arrests Jaish-e-Mohammad members over...   \n",
       "1  Second Scottish independence vote not yet on t...   \n",
       "2  UK bans laptops and tablets on flights from si...   \n",
       "3  UK growth prediction for 2018 scaled back to 1...   \n",
       "4  EU patients may miss out on medicines in no-de...   \n",
       "\n",
       "                                                body  type  \n",
       "0  pakistan said it had arrest member of the isla...  real  \n",
       "1  nicola sturgeon ha said second independ refere...  real  \n",
       "2  the uk govern ha announc sweep cabin ban on la...  real  \n",
       "3  one of the uk lead econom thinktank ha slash i...  real  \n",
       "4  pharmaceut giant astrazeneca ha said patient i...  real  "
      ]
     },
     "execution_count": 36,
     "metadata": {},
     "output_type": "execute_result"
    }
   ],
   "source": [
    "dataset.head(5)"
   ]
  },
  {
   "cell_type": "code",
   "execution_count": 85,
   "metadata": {},
   "outputs": [],
   "source": [
    "train_dataset, test_dataset = train_test_split(dataset, test_size=0.2, random_state=42)\n",
    "train_dataset.reset_index(drop=True, inplace=True)\n",
    "test_dataset.reset_index(drop=True, inplace=True)"
   ]
  },
  {
   "cell_type": "code",
   "execution_count": 86,
   "metadata": {},
   "outputs": [
    {
     "data": {
      "text/plain": [
       "'resid of new york citi ha the power of life and death in hi hand on monday as the onli person capabl of stop an execut schedul to take place within matter of hour in pakistan as the eldest male rel of the murder victim in the case tariq mahmood long time new york resid is vest under pakistan law with the power to pardon and therebi save the life of the condemn man muhammad sarfraz the prison is set to go to the gallow in rawalpindi at dawn on tuesday midnight new york time for the murder of mahmood brother tahir mahmood the guardian ha tri to reach tariq mahmood but call to hi cell phone were not return hi other brother ulfat mahmood who run manhattan busi said he did not know how to contact tariq ulfat mahmood said the pend execut had dredg up pain memori from year ago ask whether he thought hi brother should grant merci to the condemn prison he said think my brother should never forgiv him when the guardian ask whether he then thought that monday execut should go ahead ulfat repli that someth that god must decid sarfraz ha alway insist on hi innoc in the kill of tahir mahmood who wa close friend of hi in letter written from hi prison cell to hi potenti savior sarfraz plead never kill tahir thi quran is wit pleas believ me had no reason to kill tahir he did me no wrong in the letter the prison say he ha been tri to reach tariq mahmood without success for the past five month swear to god have tri my best but am out of time he goe on have to face thi troubl but beg you don believ other who spread falsehood and do not want peac between us pakistan ha becom one of the most activ practition of capit punish in the world sinc it lift moratorium on the death penalti in decemb in the wake of the peshawar school massacr last year alon it hang more than prison the countri ha one of the largest death row in the world and question of innoc are frequent rais in capit case in it report on the death penalti in pakistan in amnesti intern conclud in countri where peopl are routin deni the right to fair trial and evid extract through tortur is use to seal convict hundr of peopl are be sent to their death under the pretens of justic be serv in statement to the guardian from the uk where he live sarfraz brother jahangir ahktar said hi death will not bring tahir back my brother ha been on death row for crime he didn commit for over year hope and pray that tariq can find it in hi heart to put stop to thi execut and to final put an end to all thi suffer'"
      ]
     },
     "execution_count": 86,
     "metadata": {},
     "output_type": "execute_result"
    }
   ],
   "source": [
    "train_dataset.body[0]"
   ]
  },
  {
   "cell_type": "code",
   "execution_count": 87,
   "metadata": {},
   "outputs": [
    {
     "data": {
      "text/plain": [
       "(44194, 3)"
      ]
     },
     "execution_count": 87,
     "metadata": {},
     "output_type": "execute_result"
    }
   ],
   "source": [
    "train_dataset.shape"
   ]
  },
  {
   "cell_type": "code",
   "execution_count": 88,
   "metadata": {
    "scrolled": true
   },
   "outputs": [
    {
     "data": {
      "text/plain": [
       "(11049, 3)"
      ]
     },
     "execution_count": 88,
     "metadata": {},
     "output_type": "execute_result"
    }
   ],
   "source": [
    "test_dataset.shape"
   ]
  },
  {
   "cell_type": "markdown",
   "metadata": {},
   "source": [
    "### Data Preprocessing"
   ]
  },
  {
   "cell_type": "code",
   "execution_count": 89,
   "metadata": {},
   "outputs": [
    {
     "data": {
      "text/plain": [
       "(44194, 72912)"
      ]
     },
     "execution_count": 89,
     "metadata": {},
     "output_type": "execute_result"
    }
   ],
   "source": [
    "# words occuring in only at most 9 document or at least 95% of the documents are REMOVED\n",
    "vector_tfidf = TfidfVectorizer(stop_words='english', max_df=0.90, min_df=2)\n",
    "#vector_tf = CountVectorizer(stop_words='english', max_df=0.95, min_df=2)\n",
    "\n",
    "# tfidf_doc = N_word_doc/N_totalwords_doc * log(N_total_doc/N_totaldocs_word)\n",
    "tfidf = vector_tfidf.fit_transform(train_dataset.body.astype('U'))   # taking test as type Unicode\n",
    "#tf = vector_tf.fit_transform(x.body)\n",
    "tfidf.shape"
   ]
  },
  {
   "cell_type": "code",
   "execution_count": 90,
   "metadata": {
    "scrolled": true
   },
   "outputs": [
    {
     "data": {
      "text/plain": [
       "<44194x72912 sparse matrix of type '<class 'numpy.float64'>'\n",
       "\twith 12180503 stored elements in Compressed Sparse Row format>"
      ]
     },
     "execution_count": 90,
     "metadata": {},
     "output_type": "execute_result"
    }
   ],
   "source": [
    "tfidf"
   ]
  },
  {
   "cell_type": "code",
   "execution_count": 91,
   "metadata": {},
   "outputs": [],
   "source": [
    "docs = tfidf.shape[0]\n",
    "words = tfidf.shape[1]"
   ]
  },
  {
   "cell_type": "code",
   "execution_count": 92,
   "metadata": {},
   "outputs": [],
   "source": [
    "vocab = vector_tfidf.vocabulary_\n",
    "\n",
    "vocab = sorted(vocab.items(), key=lambda x:x[1])\n",
    "\n",
    "vocab = [i[0] for i in vocab]"
   ]
  },
  {
   "cell_type": "code",
   "execution_count": 93,
   "metadata": {},
   "outputs": [
    {
     "name": "stdout",
     "output_type": "stream",
     "text": [
      "(44194, 1000)\n",
      "Wall time: 3min 22s\n"
     ]
    }
   ],
   "source": [
    "%%time\n",
    "# Dimension Reduction of the TF-IDF with Latent Semantic Analysis (LSA)\n",
    "n_comp = 1000\n",
    "# Contrary to PCA, this estimator does not center the data before computing the singular value decomposition.\n",
    "# This means it can work with scipy.sparse matrices efficiently, \n",
    "# as centering the data will give non zero values to zero elements.\n",
    "\n",
    "# setting n-components as the number of docs, as that's the maximum \n",
    "# number of features a LSA reduced feature-set can have.\n",
    "svd = TruncatedSVD(n_components=n_comp, n_iter=3, algorithm='randomized')\n",
    "tfidf_red = svd.fit_transform(tfidf)\n",
    "\n",
    "print(tfidf_red.shape)"
   ]
  },
  {
   "cell_type": "code",
   "execution_count": 94,
   "metadata": {
    "scrolled": true
   },
   "outputs": [
    {
     "data": {
      "image/png": "[encoded data removed]",
      "text/plain": [
       "<Figure size 432x288 with 1 Axes>"
      ]
     },
     "metadata": {
      "needs_background": "light"
     },
     "output_type": "display_data"
    }
   ],
   "source": [
    "# plot of variance(percentage) contributed by each feature\n",
    "plt.plot(np.arange(0,n_comp,1),svd.explained_variance_ratio_*100)\n",
    "plt.xlabel('features/tokens')\n",
    "plt.ylabel('Variance Percentage contributed')\n",
    "plt.savefig('svd_variance.jpeg')"
   ]
  },
  {
   "cell_type": "code",
   "execution_count": 95,
   "metadata": {
    "scrolled": true
   },
   "outputs": [
    {
     "data": {
      "image/png": "[encoded data removed]",
      "text/plain": [
       "<Figure size 432x288 with 1 Axes>"
      ]
     },
     "metadata": {
      "needs_background": "light"
     },
     "output_type": "display_data"
    }
   ],
   "source": [
    "# commulative contribution of variance by the features\n",
    "cumm = [(svd.explained_variance_ratio_*100)[:i+1].sum() for i in range(n_comp)]\n",
    "plt.plot(np.arange(0,n_comp,1),cumm)\n",
    "plt.xlabel('features/tokens')\n",
    "plt.ylabel('Cummulative Variance Percentage contributed')\n",
    "plt.savefig('svd_variance_cummulative.jpeg')"
   ]
  },
  {
   "cell_type": "code",
   "execution_count": 97,
   "metadata": {},
   "outputs": [
    {
     "data": {
      "text/plain": [
       "45.99535194001695"
      ]
     },
     "execution_count": 97,
     "metadata": {},
     "output_type": "execute_result"
    }
   ],
   "source": [
    "svd.explained_variance_ratio_.sum()*100"
   ]
  },
  {
   "cell_type": "code",
   "execution_count": 96,
   "metadata": {},
   "outputs": [
    {
     "data": {
      "image/png": "[encoded data removed]",
      "text/plain": [
       "<Figure size 432x288 with 1 Axes>"
      ]
     },
     "metadata": {
      "needs_background": "light"
     },
     "output_type": "display_data"
    }
   ],
   "source": [
    "# plotting the tfidf vector of datapoint 0\n",
    "plt.plot(np.arange(0,tfidf.shape[1],1),tfidf[0,:].todense().T)\n",
    "plt.title('DataPoint #0')\n",
    "plt.xlabel('features/tokens')\n",
    "plt.savefig('tfidf_vector.jpeg')\n",
    "plt.show()"
   ]
  },
  {
   "cell_type": "code",
   "execution_count": 98,
   "metadata": {},
   "outputs": [
    {
     "data": {
      "image/png": "[encoded data removed]",
      "text/plain": [
       "<Figure size 432x288 with 1 Axes>"
      ]
     },
     "metadata": {
      "needs_background": "light"
     },
     "output_type": "display_data"
    }
   ],
   "source": [
    "# plotting the reduced tfidf vector of datapoint 0\n",
    "plt.plot(np.arange(0,tfidf_red.shape[1],1),tfidf_red[0,:])\n",
    "plt.title('DataPoint #0')\n",
    "plt.xlabel('features/tokens')\n",
    "plt.savefig('tfidf_vector_reduced.jpeg')\n",
    "plt.show()"
   ]
  },
  {
   "cell_type": "code",
   "execution_count": 99,
   "metadata": {
    "scrolled": false
   },
   "outputs": [
    {
     "data": {
      "image/png": "[encoded data removed]",
      "text/plain": [
       "<Figure size 720x720 with 1 Axes>"
      ]
     },
     "metadata": {
      "needs_background": "light"
     },
     "output_type": "display_data"
    }
   ],
   "source": [
    "# Because our tfidf is not centered, the first feature after LSA reduction\n",
    "# just contains information on the frequency of the words in the documents.\n",
    "\n",
    "# Therefore, to really see any difference in features of the two types of articles,\n",
    "# we will use second and third most variant features plot to see any distinction.\n",
    "\n",
    "# for data, fak in zip(tfidf_red[:,1:3],target):\n",
    "#     x, y = data\n",
    "#     if(fak):\n",
    "#         fake = plt.scatter(x, y, c='red', alpha=0.5)\n",
    "#     else:\n",
    "#         real = plt.scatter(x, y, c='green', alpha=0.5)\n",
    "c = ['red' if i=='fake' else 'green' for i in train_dataset.type]\n",
    "\n",
    "plt.figure(figsize=(10,10))\n",
    "plt.scatter(tfidf_red[:,1], tfidf_red[:,2], c=c, alpha=0.5)\n",
    "    \n",
    "#plt.legend(('real','fake'),loc=0)\n",
    "plt.xlabel('feature index : 1')\n",
    "plt.ylabel('feature index : 2')\n",
    "plt.title(\"All training DataPoints\")\n",
    "plt.savefig('top_two_features_visual.jpeg')\n",
    "plt.show()"
   ]
  },
  {
   "cell_type": "code",
   "execution_count": 100,
   "metadata": {},
   "outputs": [],
   "source": [
    "train_X = tfidf_red\n",
    "train_y = np.array([1 if i=='fake' else 0 for i in train_dataset.type])\n",
    "\n",
    "# Using the Vectorizer object fitted with the training\n",
    "# data to transform the test data with same features.\n",
    "test_tfidf = vector_tfidf.transform(test_dataset.body.astype('U'))\n",
    "\n",
    "# Using the LSA's SVD object fitted with the training \n",
    "# data to transform the test data with the same features.\n",
    "test_X = svd.transform(test_tfidf)\n",
    "test_y = np.array([1 if i=='fake' else 0 for i in test_dataset.type])"
   ]
  },
  {
   "cell_type": "markdown",
   "metadata": {},
   "source": [
    "## MODELS"
   ]
  },
  {
   "cell_type": "markdown",
   "metadata": {},
   "source": [
    "### Logistic Regression"
   ]
  },
  {
   "cell_type": "code",
   "execution_count": 148,
   "metadata": {},
   "outputs": [],
   "source": [
    "from sklearn.linear_model import LogisticRegression\n",
    "\n",
    "def LogisticReg_train(X, y):\n",
    "    \n",
    "    clf = LogisticRegression(penalty='l2', C=1.0, solver='lbfgs', multi_class='multinomial')\n",
    "    model = clf.fit(X, y)\n",
    "    return model"
   ]
  },
  {
   "cell_type": "code",
   "execution_count": 149,
   "metadata": {},
   "outputs": [
    {
     "name": "stdout",
     "output_type": "stream",
     "text": [
      "0 of 10\n",
      "1 of 10\n",
      "2 of 10\n",
      "3 of 10\n",
      "4 of 10\n",
      "5 of 10\n",
      "6 of 10\n",
      "7 of 10\n",
      "8 of 10\n",
      "9 of 10\n",
      "LOGISTIC REGRESSION\n",
      "\n",
      "\n",
      "Accuracy : 96.59%\n",
      "\n",
      "Prediction of Real News (0)\n",
      "Precision : 96.89%\n",
      "Recall : 99.03%\n",
      "F1Score : 97.95%\n",
      "\n",
      "Prediction of Fake News (1)\n",
      "Precision : 95.28%\n",
      "Recall : 86.02%\n",
      "F1Score : 90.41%\n",
      "Wall time: 41min 49s\n"
     ]
    }
   ],
   "source": [
    "%%time \n",
    "prf_f = []\n",
    "prf_r = []\n",
    "acc = []\n",
    "for i in range(10):\n",
    "    \n",
    "    train_dataset, test_dataset = train_test_split(dataset, test_size=0.2)\n",
    "    train_dataset.reset_index(drop=True, inplace=True)\n",
    "    test_dataset.reset_index(drop=True, inplace=True)\n",
    "    \n",
    "    vector_tfidf = TfidfVectorizer(stop_words='english', max_df=0.90, min_df=2)\n",
    "    tfidf = vector_tfidf.fit_transform(train_dataset.body.astype('U'))\n",
    "    \n",
    "    svd = TruncatedSVD(n_components=1000, n_iter=3, algorithm='randomized')\n",
    "    tfidf_red = svd.fit_transform(tfidf)\n",
    "        \n",
    "    train_X = tfidf_red\n",
    "    train_y = np.array([1 if i=='fake' else 0 for i in train_dataset.type])\n",
    "    test_tfidf = vector_tfidf.transform(test_dataset.body.astype('U'))\n",
    "    test_X = svd.transform(test_tfidf)\n",
    "    test_y = np.array([1 if i=='fake' else 0 for i in test_dataset.type])\n",
    "    \n",
    "    logReg_clf = LogisticReg_train(train_X, train_y)\n",
    "    test_pred = logReg_clf.predict(test_X)\n",
    "    \n",
    "    prf_f.append(precision_recall_fscore_support(test_y,test_pred, pos_label=1, average='binary')[:3])\n",
    "    prf_r.append(precision_recall_fscore_support(test_y,test_pred, pos_label=0, average='binary')[:3])\n",
    "    \n",
    "    acc = np.mean(np.equal(test_y,test_pred))\n",
    "    print(\"{} of 10\".format(i))\n",
    "\n",
    "prf_fake = np.mean(prf_f,axis=0)\n",
    "prf_real = np.mean(prf_r,axis=0)\n",
    "accuracy = np.mean(acc)\n",
    "\n",
    "print(\"LOGISTIC REGRESSION\\n\")\n",
    "print(\"\\nAccuracy : {:.2f}%\".format(accuracy*100))\n",
    "print('\\nPrediction of Real News (0)')\n",
    "print(\"Precision : {:.2f}%\".format(prf_real[0]*100))\n",
    "print(\"Recall : {:.2f}%\".format(prf_real[1]*100))\n",
    "print(\"F1Score : {:.2f}%\".format(prf_real[2]*100))\n",
    "print('\\nPrediction of Fake News (1)')\n",
    "print(\"Precision : {:.2f}%\".format(prf_fake[0]*100))\n",
    "print(\"Recall : {:.2f}%\".format(prf_fake[1]*100))\n",
    "print(\"F1Score : {:.2f}%\".format(prf_fake[2]*100))"
   ]
  },
  {
   "cell_type": "code",
   "execution_count": 150,
   "metadata": {},
   "outputs": [
    {
     "data": {
      "text/plain": [
       "[(0.9514407684098186, 0.8567996155694377, 0.9016434892541086),\n",
       " (0.9501625135427952, 0.8739412057797707, 0.9104593822995068),\n",
       " (0.9441431670281996, 0.8623080733036157, 0.901371990680818),\n",
       " (0.9587458745874587, 0.8502439024390244, 0.9012409513960703),\n",
       " (0.9519912711402073, 0.8491484184914841, 0.8976337448559671),\n",
       " (0.9431757833244823, 0.8770370370370371, 0.9089048106448312),\n",
       " (0.9546191247974068, 0.862371888726208, 0.9061538461538462),\n",
       " (0.9549647314161693, 0.8560311284046692, 0.9027955886124647),\n",
       " (0.961261759822911, 0.8573543928923988, 0.9063396817114532),\n",
       " (0.9574582660204631, 0.8564547206165704, 0.9041444190185609)]"
      ]
     },
     "execution_count": 150,
     "metadata": {},
     "output_type": "execute_result"
    }
   ],
   "source": [
    "prf_f"
   ]
  },
  {
   "cell_type": "code",
   "execution_count": 151,
   "metadata": {},
   "outputs": [
    {
     "data": {
      "text/plain": [
       "[(0.9675204359673024, 0.9898528099910794, 0.9785592239431187),\n",
       " (0.9725089644681082, 0.9898252598982527, 0.9810907097835024),\n",
       " (0.9697990222705052, 0.98859357696567, 0.9791061146147517),\n",
       " (0.9667424981042141, 0.9916657406378486, 0.9790455293472298),\n",
       " (0.9663628472222222, 0.9902156993551257, 0.9781438769906645),\n",
       " (0.9728343879554877, 0.9881427304964538, 0.9804288070368334),\n",
       " (0.969341161121983, 0.9906666666666667, 0.9798878997692054),\n",
       " (0.9678470562676516, 0.990770599355054, 0.9791746799274685),\n",
       " (0.9687297121835101, 0.9922420480993018, 0.9803449219819326),\n",
       " (0.9675805047867712, 0.9911958096511757, 0.9792458023671897)]"
      ]
     },
     "execution_count": 151,
     "metadata": {},
     "output_type": "execute_result"
    }
   ],
   "source": [
    "prf_r"
   ]
  },
  {
   "cell_type": "code",
   "execution_count": 152,
   "metadata": {},
   "outputs": [
    {
     "data": {
      "text/plain": [
       "0.9658792650918635"
      ]
     },
     "execution_count": 152,
     "metadata": {},
     "output_type": "execute_result"
    }
   ],
   "source": [
    "acc"
   ]
  },
  {
   "cell_type": "markdown",
   "metadata": {},
   "source": [
    "### Support Vector Machine"
   ]
  },
  {
   "cell_type": "code",
   "execution_count": 153,
   "metadata": {},
   "outputs": [],
   "source": [
    "def SupportVecMachine_train(X, y):\n",
    "    \n",
    "    model = svm.SVC(kernel='rbf')\n",
    "    clf = model.fit(X,y)\n",
    "    return clf"
   ]
  },
  {
   "cell_type": "code",
   "execution_count": 154,
   "metadata": {},
   "outputs": [
    {
     "name": "stdout",
     "output_type": "stream",
     "text": [
      "0 of 10\n",
      "1 of 10\n",
      "2 of 10\n",
      "3 of 10\n",
      "4 of 10\n",
      "5 of 10\n",
      "6 of 10\n",
      "7 of 10\n",
      "8 of 10\n",
      "9 of 10\n",
      "SUPPORT VECTOR MACHINE\n",
      "\n",
      "\n",
      "Accuracy : 87.45%\n",
      "\n",
      "Prediction of Real News (0)\n",
      "Precision : 87.14%\n",
      "Recall : 99.23%\n",
      "F1Score : 92.79%\n",
      "\n",
      "Prediction of Fake News (1)\n",
      "Precision : 91.37%\n",
      "Recall : 35.83%\n",
      "F1Score : 51.47%\n",
      "Wall time: 53min 39s\n"
     ]
    }
   ],
   "source": [
    "%%time \n",
    "prf_f = []\n",
    "prf_r = []\n",
    "acc = []\n",
    "for i in range(10):\n",
    "    \n",
    "    train_dataset, test_dataset = train_test_split(dataset, test_size=0.2)\n",
    "    train_dataset.reset_index(drop=True, inplace=True)\n",
    "    test_dataset.reset_index(drop=True, inplace=True)\n",
    "    \n",
    "    vector_tfidf = TfidfVectorizer(stop_words='english', max_df=0.90, min_df=2)\n",
    "    tfidf = vector_tfidf.fit_transform(train_dataset.body.astype('U'))\n",
    "    \n",
    "    svd = TruncatedSVD(n_components=1000, n_iter=3, algorithm='randomized')\n",
    "    tfidf_red = svd.fit_transform(tfidf)\n",
    "        \n",
    "    train_X = tfidf_red\n",
    "    train_y = np.array([1 if i=='fake' else 0 for i in train_dataset.type])\n",
    "    test_tfidf = vector_tfidf.transform(test_dataset.body.astype('U'))\n",
    "    test_X = svd.transform(test_tfidf)\n",
    "    test_y = np.array([1 if i=='fake' else 0 for i in test_dataset.type])\n",
    "    \n",
    "    svm_clf = SupportVecMachine_train(train_X[:,:50],train_y)\n",
    "    test_pred = svm_clf.predict(test_X[:,:50])\n",
    "    \n",
    "    prf_f.append(precision_recall_fscore_support(test_y,test_pred, pos_label=1, average='binary')[:3])\n",
    "    prf_r.append(precision_recall_fscore_support(test_y,test_pred, pos_label=0, average='binary')[:3])\n",
    "    \n",
    "    acc.append(np.mean(np.equal(test_y,test_pred)))\n",
    "    print(\"{} of 10\".format(i))\n",
    "\n",
    "prf_fake = np.mean(prf_f,axis=0)\n",
    "prf_real = np.mean(prf_r,axis=0)\n",
    "accuracy = np.mean(acc)\n",
    "\n",
    "print(\"SUPPORT VECTOR MACHINE\\n\")\n",
    "print(\"\\nAccuracy : {:.2f}%\".format(accuracy*100))\n",
    "print('\\nPrediction of Real News (0)')\n",
    "print(\"Precision : {:.2f}%\".format(prf_real[0]*100))\n",
    "print(\"Recall : {:.2f}%\".format(prf_real[1]*100))\n",
    "print(\"F1Score : {:.2f}%\".format(prf_real[2]*100))\n",
    "print('\\nPrediction of Fake News (1)')\n",
    "print(\"Precision : {:.2f}%\".format(prf_fake[0]*100))\n",
    "print(\"Recall : {:.2f}%\".format(prf_fake[1]*100))\n",
    "print(\"F1Score : {:.2f}%\".format(prf_fake[2]*100))"
   ]
  },
  {
   "cell_type": "code",
   "execution_count": 155,
   "metadata": {},
   "outputs": [
    {
     "data": {
      "text/plain": [
       "[(0.9069767441860465, 0.3571084337349398, 0.512448132780083),\n",
       " (0.9111111111111111, 0.36534653465346534, 0.5215547703180211),\n",
       " (0.9212903225806451, 0.3562874251497006, 0.5138539042821159),\n",
       " (0.927070457354759, 0.37462537462537465, 0.5336179295624333),\n",
       " (0.9072039072039072, 0.3603297769156159, 0.5157931273863242),\n",
       " (0.9171817058096415, 0.3572460279248917, 0.5142065142065142),\n",
       " (0.9256926952141058, 0.36422200198216054, 0.5227596017069701),\n",
       " (0.9007444168734491, 0.34538534728829684, 0.49931224209078406),\n",
       " (0.91125, 0.3554363725012189, 0.51139950894423),\n",
       " (0.9085290482076638, 0.3468617272298254, 0.5020491803278689)]"
      ]
     },
     "execution_count": 155,
     "metadata": {},
     "output_type": "execute_result"
    }
   ],
   "source": [
    "prf_f"
   ]
  },
  {
   "cell_type": "code",
   "execution_count": 157,
   "metadata": {},
   "outputs": [
    {
     "data": {
      "text/plain": [
       "[(0.8696247068021892, 0.9915310898150211, 0.9265854420493596),\n",
       " (0.8747924602011915, 0.9920256949828331, 0.9297280465019722),\n",
       " (0.8744403348257738, 0.9932559425096739, 0.9300688441430717),\n",
       " (0.877734375, 0.9934785011606058, 0.9320267537719708),\n",
       " (0.8710654936461388, 0.9915433403805497, 0.9274080241452881),\n",
       " (0.86962890625, 0.9925323227819884, 0.9270247761815532),\n",
       " (0.8748902974158946, 0.993466947181929, 0.930415845691175),\n",
       " (0.8656643561456604, 0.9910584553481614, 0.9241271495570609),\n",
       " (0.8710118060298566, 0.99210935763503, 0.9276250844287423),\n",
       " (0.86484375, 0.9917133258678611, 0.923943661971831)]"
      ]
     },
     "execution_count": 157,
     "metadata": {},
     "output_type": "execute_result"
    }
   ],
   "source": [
    "prf_r"
   ]
  },
  {
   "cell_type": "code",
   "execution_count": 156,
   "metadata": {},
   "outputs": [
    {
     "data": {
      "text/plain": [
       "[0.8723866413250068,\n",
       " 0.8774549733007512,\n",
       " 0.8777264910851661,\n",
       " 0.8813467282106978,\n",
       " 0.8737442302470811,\n",
       " 0.8731106887501131,\n",
       " 0.8785410444384107,\n",
       " 0.8682233686306453,\n",
       " 0.8739252421033578,\n",
       " 0.8680423567743687]"
      ]
     },
     "execution_count": 156,
     "metadata": {},
     "output_type": "execute_result"
    }
   ],
   "source": [
    "acc"
   ]
  },
  {
   "cell_type": "markdown",
   "metadata": {},
   "source": [
    "### Random Forest"
   ]
  },
  {
   "cell_type": "code",
   "execution_count": 158,
   "metadata": {},
   "outputs": [],
   "source": [
    "from sklearn.ensemble import RandomForestClassifier\n",
    "\n",
    "def RandomForest_train(X, y):\n",
    "    \n",
    "    model = RandomForestClassifier(n_estimators=100, criterion='gini')\n",
    "    clf = model.fit(X,y)\n",
    "    return clf"
   ]
  },
  {
   "cell_type": "code",
   "execution_count": 172,
   "metadata": {
    "scrolled": false
   },
   "outputs": [
    {
     "name": "stdout",
     "output_type": "stream",
     "text": [
      "0 of 10\n",
      "1 of 10\n",
      "2 of 10\n",
      "3 of 10\n",
      "4 of 10\n",
      "5 of 10\n",
      "6 of 10\n",
      "7 of 10\n",
      "8 of 10\n",
      "9 of 10\n",
      "RANDOM FOREST\n",
      "\n",
      "\n",
      "Accuracy : 90.45%\n",
      "\n",
      "Prediction of Real News (0)\n",
      "Precision : 89.72%\n",
      "Recall : 99.69%\n",
      "F1Score : 94.45%\n",
      "\n",
      "Prediction of Fake News (1)\n",
      "Precision : 97.37%\n",
      "Recall : 49.71%\n",
      "F1Score : 65.80%\n",
      "Wall time: 1h 27min 35s\n"
     ]
    }
   ],
   "source": [
    "%%time \n",
    "prf_f = []\n",
    "prf_r = []\n",
    "acc = []\n",
    "for i in range(10):\n",
    "    \n",
    "    train_dataset, test_dataset = train_test_split(dataset, test_size=0.2)\n",
    "    train_dataset.reset_index(drop=True, inplace=True)\n",
    "    test_dataset.reset_index(drop=True, inplace=True)\n",
    "    \n",
    "    vector_tfidf = TfidfVectorizer(stop_words='english', max_df=0.90, min_df=2)\n",
    "    tfidf = vector_tfidf.fit_transform(train_dataset.body.astype('U'))\n",
    "    \n",
    "    svd = TruncatedSVD(n_components=1000, n_iter=3, algorithm='randomized')\n",
    "    tfidf_red = svd.fit_transform(tfidf)\n",
    "        \n",
    "    train_X = tfidf_red\n",
    "    train_y = np.array([1 if i=='fake' else 0 for i in train_dataset.type])\n",
    "    test_tfidf = vector_tfidf.transform(test_dataset.body.astype('U'))\n",
    "    test_X = svd.transform(test_tfidf)\n",
    "    test_y = np.array([1 if i=='fake' else 0 for i in test_dataset.type])\n",
    "    \n",
    "    randforest_clf = RandomForest_train(train_X, train_y)\n",
    "    test_pred = randforest_clf.predict(test_X)\n",
    "    \n",
    "    prf_f.append(precision_recall_fscore_support(test_y,test_pred, pos_label=1, average='binary')[:3])\n",
    "    prf_r.append(precision_recall_fscore_support(test_y,test_pred, pos_label=0, average='binary')[:3])\n",
    "    \n",
    "    acc.append(np.mean(np.equal(test_y,test_pred)))\n",
    "    print(\"{} of 10\".format(i))\n",
    "\n",
    "prf_fake = np.mean(prf_f,axis=0)\n",
    "prf_real = np.mean(prf_r,axis=0)\n",
    "accuracy = np.mean(acc)\n",
    "\n",
    "print(\"RANDOM FOREST\\n\")\n",
    "print(\"\\nAccuracy : {:.2f}%\".format(accuracy*100))\n",
    "print('\\nPrediction of Real News (0)')\n",
    "print(\"Precision : {:.2f}%\".format(prf_real[0]*100))\n",
    "print(\"Recall : {:.2f}%\".format(prf_real[1]*100))\n",
    "print(\"F1Score : {:.2f}%\".format(prf_real[2]*100))\n",
    "print('\\nPrediction of Fake News (1)')\n",
    "print(\"Precision : {:.2f}%\".format(prf_fake[0]*100))\n",
    "print(\"Recall : {:.2f}%\".format(prf_fake[1]*100))\n",
    "print(\"F1Score : {:.2f}%\".format(prf_fake[2]*100))"
   ]
  },
  {
   "cell_type": "code",
   "execution_count": 173,
   "metadata": {},
   "outputs": [
    {
     "data": {
      "text/plain": [
       "[(0.9735294117647059, 0.47878495660559306, 0.6418875242404654),\n",
       " (0.9690063810391978, 0.5192965315095261, 0.676208651399491),\n",
       " (0.9741626794258373, 0.503960396039604, 0.6642740619902121),\n",
       " (0.9705304518664047, 0.4935064935064935, 0.6543046357615894),\n",
       " (0.9818731117824774, 0.47192642787996125, 0.6374632232755802),\n",
       " (0.9731977818853974, 0.5033460803059273, 0.6635160680529301),\n",
       " (0.9703153988868275, 0.5109916951636542, 0.66944),\n",
       " (0.9733464955577492, 0.48238747553816047, 0.6450768727510632),\n",
       " (0.9696969696969697, 0.4935323383084577, 0.654137817342565),\n",
       " (0.9812734082397003, 0.5132223310479922, 0.6739549839228296)]"
      ]
     },
     "execution_count": 173,
     "metadata": {},
     "output_type": "execute_result"
    }
   ],
   "source": [
    "prf_f"
   ]
  },
  {
   "cell_type": "code",
   "execution_count": 174,
   "metadata": {},
   "outputs": [
    {
     "data": {
      "text/plain": [
       "[(0.8922125835078273, 0.996991643454039, 0.9416964849505367),\n",
       " (0.9011254019292605, 0.9962230615418796, 0.9462910203650945),\n",
       " (0.8998400639744102, 0.9970096356185624, 0.9459360058845164),\n",
       " (0.8989133685574718, 0.996683983640986, 0.9452772827340391),\n",
       " (0.8915075576770087, 0.9979962150729155, 0.9417511423919324),\n",
       " (0.8957559947827832, 0.9967623088087529, 0.9435637285986049),\n",
       " (0.8996088657105606, 0.9964452343923572, 0.9455542086122385),\n",
       " (0.8945795137504982, 0.9970016657412548, 0.943017698650281),\n",
       " (0.8984639936165969, 0.9965704170815356, 0.9449777078415945),\n",
       " (0.9004107804829176, 0.997779504829577, 0.9465978512744891)]"
      ]
     },
     "execution_count": 174,
     "metadata": {},
     "output_type": "execute_result"
    }
   ],
   "source": [
    "prf_r"
   ]
  },
  {
   "cell_type": "code",
   "execution_count": 175,
   "metadata": {},
   "outputs": [
    {
     "data": {
      "text/plain": [
       "[0.8997194316227712,\n",
       " 0.9078649651552176,\n",
       " 0.9068693999456965,\n",
       " 0.905511811023622,\n",
       " 0.899628925694633,\n",
       " 0.903339668748303,\n",
       " 0.9065073762331433,\n",
       " 0.9018010679699521,\n",
       " 0.9050592813829306,\n",
       " 0.9082269888677709]"
      ]
     },
     "execution_count": 175,
     "metadata": {},
     "output_type": "execute_result"
    }
   ],
   "source": [
    "acc"
   ]
  },
  {
   "cell_type": "code",
   "execution_count": 176,
   "metadata": {},
   "outputs": [
    {
     "data": {
      "image/png": "[encoded data removed]",
      "text/plain": [
       "<Figure size 1080x720 with 1 Axes>"
      ]
     },
     "metadata": {
      "needs_background": "light"
     },
     "output_type": "display_data"
    }
   ],
   "source": [
    "plt.figure(figsize=(15,10))\n",
    "plt.bar(np.arange(0,train_X.shape[1],1),randforest_clf.feature_importances_,width=4)\n",
    "plt.xlabel(\"features/tokens\")\n",
    "plt.savefig('randomForest_feature_importance.jpeg')\n",
    "plt.show()"
   ]
  },
  {
   "cell_type": "markdown",
   "metadata": {},
   "source": [
    "### Feed-Forward Neural Network Model"
   ]
  },
  {
   "cell_type": "code",
   "execution_count": 200,
   "metadata": {},
   "outputs": [],
   "source": [
    "def nn_train(train_X, train_y, epoch=2):\n",
    "    \n",
    "    feats = train_X.shape[1]\n",
    "    \n",
    "    model = tf.keras.Sequential()\n",
    "\n",
    "    model.add(tf.keras.layers.Dense(600, input_shape=(feats,), activation='relu'))\n",
    "    model.add(tf.keras.layers.Dropout(0.25))\n",
    "    model.add(tf.keras.layers.Dense(300, activation='relu'))\n",
    "    model.add(tf.keras.layers.Dense(1, activation='sigmoid'))\n",
    "\n",
    "    model.compile(optimizer='adam', loss='binary_crossentropy', metrics=['accuracy'])\n",
    "\n",
    "    model.fit(train_X, train_y, epochs=epoch,verbose=1)\n",
    "    return model"
   ]
  },
  {
   "cell_type": "code",
   "execution_count": 202,
   "metadata": {
    "scrolled": false
   },
   "outputs": [
    {
     "name": "stdout",
     "output_type": "stream",
     "text": [
      "Epoch 1/2\n",
      "44194/44194 [==============================] - 35s 784us/step - loss: 0.1220 - acc: 0.9511\n",
      "Epoch 2/2\n",
      "44194/44194 [==============================] - 34s 774us/step - loss: 0.0643 - acc: 0.9765\n",
      "0 of 10\n",
      "Epoch 1/2\n",
      "44194/44194 [==============================] - 43s 980us/step - loss: 0.1210 - acc: 0.9526\n",
      "Epoch 2/2\n",
      "44194/44194 [==============================] - 49s 1ms/step - loss: 0.0641 - acc: 0.9767: 0s - loss: 0.0642 - a\n",
      "1 of 10\n",
      "Epoch 1/2\n",
      "44194/44194 [==============================] - 40s 906us/step - loss: 0.1202 - acc: 0.9536\n",
      "Epoch 2/2\n",
      "44194/44194 [==============================] - 39s 885us/step - loss: 0.0647 - acc: 0.9767\n",
      "2 of 10\n",
      "Epoch 1/2\n",
      "44194/44194 [==============================] - 34s 775us/step - loss: 0.1213 - acc: 0.9526\n",
      "Epoch 2/2\n",
      "44194/44194 [==============================] - 34s 763us/step - loss: 0.0643 - acc: 0.97591s - loss: 0\n",
      "3 of 10\n",
      "Epoch 1/2\n",
      "44194/44194 [==============================] - 35s 799us/step - loss: 0.1203 - acc: 0.9535\n",
      "Epoch 2/2\n",
      "44194/44194 [==============================] - 35s 785us/step - loss: 0.0645 - acc: 0.9765\n",
      "4 of 10\n",
      "Epoch 1/2\n",
      "44194/44194 [==============================] - 36s 804us/step - loss: 0.1205 - acc: 0.9527\n",
      "Epoch 2/2\n",
      "44194/44194 [==============================] - 35s 802us/step - loss: 0.0635 - acc: 0.9770\n",
      "5 of 10\n",
      "Epoch 1/2\n",
      "44194/44194 [==============================] - 51s 1ms/step - loss: 0.1206 - acc: 0.9537\n",
      "Epoch 2/2\n",
      "44194/44194 [==============================] - 46s 1ms/step - loss: 0.0643 - acc: 0.9759\n",
      "6 of 10\n",
      "Epoch 1/2\n",
      "44194/44194 [==============================] - 49s 1ms/step - loss: 0.1193 - acc: 0.9545\n",
      "Epoch 2/2\n",
      "44194/44194 [==============================] - 43s 984us/step - loss: 0.0647 - acc: 0.9767\n",
      "7 of 10\n",
      "Epoch 1/2\n",
      "44194/44194 [==============================] - 62s 1ms/step - loss: 0.1188 - acc: 0.9539: \n",
      "Epoch 2/2\n",
      "44194/44194 [==============================] - 61s 1ms/step - loss: 0.0654 - acc: 0.9758\n",
      "8 of 10\n",
      "Epoch 1/2\n",
      "44194/44194 [==============================] - 46s 1ms/step - loss: 0.1206 - acc: 0.9514\n",
      "Epoch 2/2\n",
      "44194/44194 [==============================] - 40s 907us/step - loss: 0.0648 - acc: 0.9760\n",
      "9 of 10\n",
      "Feed-Forward Neural Network Model\n",
      "\n",
      "\n",
      "Accuracy : 97.20%\n",
      "\n",
      "Prediction of Real News (0)\n",
      "Precision : 97.96%\n",
      "Recall : 98.61%\n",
      "F1Score : 98.29%\n",
      "\n",
      "Prediction of Fake News (1)\n",
      "Precision : 93.80%\n",
      "Recall : 91.00%\n",
      "F1Score : 92.34%\n",
      "Wall time: 1h 4min 30s\n"
     ]
    }
   ],
   "source": [
    "%%time \n",
    "prf_f = []\n",
    "prf_r = []\n",
    "acc = []\n",
    "for i in range(10):\n",
    "    \n",
    "    train_dataset, test_dataset = train_test_split(dataset, test_size=0.2)\n",
    "    train_dataset.reset_index(drop=True, inplace=True)\n",
    "    test_dataset.reset_index(drop=True, inplace=True)\n",
    "    \n",
    "    vector_tfidf = TfidfVectorizer(stop_words='english', max_df=0.90, min_df=2)\n",
    "    tfidf = vector_tfidf.fit_transform(train_dataset.body.astype('U'))\n",
    "    \n",
    "    svd = TruncatedSVD(n_components=1000, n_iter=3, algorithm='randomized')\n",
    "    tfidf_red = svd.fit_transform(tfidf)\n",
    "        \n",
    "    train_X = tfidf_red\n",
    "    train_y = np.array([1 if i=='fake' else 0 for i in train_dataset.type])\n",
    "    test_tfidf = vector_tfidf.transform(test_dataset.body.astype('U'))\n",
    "    test_X = svd.transform(test_tfidf)\n",
    "    test_y = np.array([1 if i=='fake' else 0 for i in test_dataset.type])\n",
    "    \n",
    "    NN_clf = nn_train(train_X, train_y, epoch=2)\n",
    "    test_pred = NN_clf.predict(test_X)\n",
    "    test_pred = ((test_pred>0.5)*1).flatten()\n",
    "    \n",
    "    prf_f.append(precision_recall_fscore_support(test_y,test_pred, pos_label=1, average='binary')[:3])\n",
    "    prf_r.append(precision_recall_fscore_support(test_y,test_pred, pos_label=0, average='binary')[:3])\n",
    "    \n",
    "    acc.append(np.mean(np.equal(test_y,test_pred)))\n",
    "    print(\"{} of 10\".format(i))\n",
    "\n",
    "prf_fake = np.mean(prf_f,axis=0)\n",
    "prf_real = np.mean(prf_r,axis=0)\n",
    "accuracy = np.mean(acc)\n",
    "\n",
    "print(\"Feed-Forward Neural Network Model\\n\")\n",
    "print(\"\\nAccuracy : {:.2f}%\".format(accuracy*100))\n",
    "print('\\nPrediction of Real News (0)')\n",
    "print(\"Precision : {:.2f}%\".format(prf_real[0]*100))\n",
    "print(\"Recall : {:.2f}%\".format(prf_real[1]*100))\n",
    "print(\"F1Score : {:.2f}%\".format(prf_real[2]*100))\n",
    "print('\\nPrediction of Fake News (1)')\n",
    "print(\"Precision : {:.2f}%\".format(prf_fake[0]*100))\n",
    "print(\"Recall : {:.2f}%\".format(prf_fake[1]*100))\n",
    "print(\"F1Score : {:.2f}%\".format(prf_fake[2]*100))"
   ]
  },
  {
   "cell_type": "code",
   "execution_count": 203,
   "metadata": {},
   "outputs": [
    {
     "data": {
      "text/plain": [
       "(44194, 1000)"
      ]
     },
     "execution_count": 203,
     "metadata": {},
     "output_type": "execute_result"
    }
   ],
   "source": [
    "train_X.shape"
   ]
  },
  {
   "cell_type": "code",
   "execution_count": 204,
   "metadata": {},
   "outputs": [
    {
     "data": {
      "text/plain": [
       "[(0.9021791767554479, 0.9347717009533367, 0.9181862986692952),\n",
       " (0.9487051792828686, 0.9019886363636364, 0.924757281553398),\n",
       " (0.9498708010335918, 0.9090009891196835, 0.9289866060146577),\n",
       " (0.9099756690997567, 0.9289617486338798, 0.9193706981317601),\n",
       " (0.9598732840549102, 0.873618452666987, 0.9147169811320754),\n",
       " (0.9414784394250514, 0.9016715830875123, 0.9211451531893521),\n",
       " (0.9575916230366492, 0.8852855759922555, 0.920020120724346),\n",
       " (0.9503073770491803, 0.9210526315789473, 0.9354513363590519),\n",
       " (0.9185185185185185, 0.9340866290018832, 0.9262371615312791),\n",
       " (0.9412955465587044, 0.9090909090909091, 0.9249129786176031)]"
      ]
     },
     "execution_count": 204,
     "metadata": {},
     "output_type": "execute_result"
    }
   ],
   "source": [
    "prf_f"
   ]
  },
  {
   "cell_type": "code",
   "execution_count": 205,
   "metadata": {},
   "outputs": [
    {
     "data": {
      "text/plain": [
       "[(0.9855298308103295, 0.9776943462897526, 0.9815964523281597),\n",
       " (0.9771043026213915, 0.9884748797135504, 0.9827567026365558),\n",
       " (0.9798112793504499, 0.9892544588456852, 0.9845102254561492),\n",
       " (0.9841005114520792, 0.9795263390880921, 0.981808097615086),\n",
       " (0.9712725286728564, 0.9915254237288136, 0.9812944876676046),\n",
       " (0.9780243929238546, 0.9873544093178036, 0.9826672554647825),\n",
       " (0.9740671845935004, 0.9909829678281198, 0.9824522679615936),\n",
       " (0.9825217104539958, 0.9892639734366353, 0.985881314802559),\n",
       " (0.9842501968725391, 0.9802801120448179, 0.982261142921298),\n",
       " (0.9794996142400529, 0.9871154059757858, 0.9832927638858154)]"
      ]
     },
     "execution_count": 205,
     "metadata": {},
     "output_type": "execute_result"
    }
   ],
   "source": [
    "prf_r"
   ]
  },
  {
   "cell_type": "code",
   "execution_count": 206,
   "metadata": {},
   "outputs": [
    {
     "data": {
      "text/plain": [
       "[0.9699520318580866,\n",
       " 0.9719431622771292,\n",
       " 0.9745678341931396,\n",
       " 0.9703140555706399,\n",
       " 0.9693184903611186,\n",
       " 0.971581138564576,\n",
       " 0.9712191148520228,\n",
       " 0.976830482396597,\n",
       " 0.9714001267082993,\n",
       " 0.9726672097022355]"
      ]
     },
     "execution_count": 206,
     "metadata": {},
     "output_type": "execute_result"
    }
   ],
   "source": [
    "acc"
   ]
  },
  {
   "cell_type": "code",
   "execution_count": 275,
   "metadata": {},
   "outputs": [
    {
     "name": "stdout",
     "output_type": "stream",
     "text": [
      "Feed-Forward Neural Network Model\n",
      "\n",
      "--------Confusion Matrix-------\n",
      "\n",
      "True          0     1    All\n",
      "Predicted                   \n",
      "0          8808   140   8948\n",
      "1           208  1893   2101\n",
      "All        9016  2033  11049\n",
      "\n",
      "Accuracy : 96.85%\n",
      "\n",
      "Prediction of Real News (0)\n",
      "Precision : 98.44%\n",
      "Recall : 97.69%\n",
      "F1Score : 98.06%\n",
      "\n",
      "Prediction of Fake News (1)\n",
      "Precision : 90.10%\n",
      "Recall : 93.11%\n",
      "F1Score : 91.58%\n"
     ]
    }
   ],
   "source": [
    "test_pred = NN_clf.predict(test_X)\n",
    "test_pred = ((test_pred>0.5)*1).flatten()\n",
    "### confusion matrix ###\n",
    "cm = pd.crosstab(test_pred, test_y, rownames=['Predicted'], colnames=['True'], margins = True)\n",
    "\n",
    "### classification report ###\n",
    "prf_fake = precision_recall_fscore_support(test_y,test_pred, pos_label=1, average='binary')\n",
    "prf_real = precision_recall_fscore_support(test_y,test_pred, pos_label=0, average='binary')\n",
    "\n",
    "acc = np.mean(np.equal(test_y,test_pred))\n",
    "\n",
    "print(\"Feed-Forward Neural Network Model\\n\")\n",
    "print('--------Confusion Matrix-------\\n')\n",
    "print(cm)\n",
    "print(\"\\nAccuracy : {:.2f}%\".format(acc*100))\n",
    "print('\\nPrediction of Real News (0)')\n",
    "print(\"Precision : {:.2f}%\".format(prf_real[0]*100))\n",
    "print(\"Recall : {:.2f}%\".format(prf_real[1]*100))\n",
    "print(\"F1Score : {:.2f}%\".format(prf_real[2]*100))\n",
    "print('\\nPrediction of Fake News (1)')\n",
    "print(\"Precision : {:.2f}%\".format(prf_fake[0]*100))\n",
    "print(\"Recall : {:.2f}%\".format(prf_fake[1]*100))\n",
    "print(\"F1Score : {:.2f}%\".format(prf_fake[2]*100))"
   ]
  },
  {
   "cell_type": "markdown",
   "metadata": {},
   "source": [
    "### Reccurant Neural Network "
   ]
  },
  {
   "cell_type": "code",
   "execution_count": 15,
   "metadata": {},
   "outputs": [],
   "source": [
    "def filter_text(text):\n",
    "    # removing html tags\n",
    "    text = re.sub(\"<.*?>\",\"\",text)\n",
    "    # removing websites, email addresses or any punctuation\n",
    "    # changing \"*http(s)*\", \"*www*\" or \"*@*\" to \" \"\n",
    "    # \\S+ means anything except whitespace char >=1 times\n",
    "    text = re.sub(\"((\\S+)?(http(s)?)(\\S+))|((\\S+)?(www)(\\S+))|((\\S+)?(\\@)(\\S+)?)\", \"\", text)\n",
    "    # changing anything except alphabets to \" \"\n",
    "    text = re.sub(\"[^a-zA-Z]\",\" \",text)\n",
    "    text = text.lower()\n",
    "    return text\n"
   ]
  },
  {
   "cell_type": "code",
   "execution_count": 18,
   "metadata": {},
   "outputs": [],
   "source": [
    "from nltk.tokenize import word_tokenize\n",
    "# the dataset is cleaned of any special characters,\n",
    "# and word stemming is done to remove any words with almost similar meaning and\n",
    "# hence will help reduce the tf-idf dimensionality (number of unique words)\n",
    "def clean_text(dataset):\n",
    "    t0 = time()\n",
    "\n",
    "    for i in dataset.index:\n",
    "        # we will crop the first 1000 words for every article under assumption that \n",
    "        # we can learn the article's 'fakeness' from first 1000 words\n",
    "        dataset.at[i,'body'] = ' '.join(filter_text(dataset.body[i]).split()[:1000])\n",
    "\n",
    "    print(\"Time taken to cleanUp : %.3f min\" % ((time()-t0)/60))\n"
   ]
  },
  {
   "cell_type": "code",
   "execution_count": 19,
   "metadata": {},
   "outputs": [],
   "source": [
    "# removing empty/nan article bodies and articles with less that 100 words\n",
    "fake_dataset = filter_nan(fake_news)\n",
    "real_dataset = filter_nan(real_news)"
   ]
  },
  {
   "cell_type": "code",
   "execution_count": 20,
   "metadata": {},
   "outputs": [],
   "source": [
    "# reducing the number of real_dataset datapoints around that of fake_dataset\n",
    "# keeping the fake to non-fake news ratio close to presence in real world media\n",
    "real_dataset = real_dataset.sample(n=45000,random_state=42)\n",
    "real_dataset.reset_index(drop=True, inplace=True)"
   ]
  },
  {
   "cell_type": "code",
   "execution_count": 21,
   "metadata": {},
   "outputs": [],
   "source": [
    "dataset = pd.concat([real_dataset,fake_dataset])\n",
    "dataset.reset_index(drop=True, inplace=True)"
   ]
  },
  {
   "cell_type": "code",
   "execution_count": 22,
   "metadata": {},
   "outputs": [
    {
     "name": "stdout",
     "output_type": "stream",
     "text": [
      "Time taken to cleanUp : 6.562 min\n"
     ]
    }
   ],
   "source": [
    "clean_text(dataset)"
   ]
  },
  {
   "cell_type": "code",
   "execution_count": 23,
   "metadata": {},
   "outputs": [],
   "source": [
    "dataset = filter_nan(dataset)"
   ]
  },
  {
   "cell_type": "markdown",
   "metadata": {},
   "source": [
    "#### Data Pre-Processing"
   ]
  },
  {
   "cell_type": "code",
   "execution_count": 24,
   "metadata": {
    "scrolled": true
   },
   "outputs": [
    {
     "name": "stdout",
     "output_type": "stream",
     "text": [
      "Found 187279 unique tokens.\n",
      "Wall time: 1min\n"
     ]
    }
   ],
   "source": [
    "%%time\n",
    "from tensorflow.keras.preprocessing.text import Tokenizer\n",
    "from tensorflow.keras.preprocessing.sequence import pad_sequences\n",
    "\n",
    "label = np.array([1 if t=='fake' else 0 for t in dataset.type])\n",
    "\n",
    "# create a tokenizer object \n",
    "tokenizer = Tokenizer()\n",
    "# fit on all the list of news articles will\n",
    "# create a dictionary of unique word occurances\n",
    "tokenizer.fit_on_texts(dataset.body)\n",
    "# convert each article to a sequence of integers\n",
    "sequences = tokenizer.texts_to_sequences(dataset.body)\n",
    "\n",
    "# word_index contains the dictionary of unique words\n",
    "word_index = tokenizer.word_index\n",
    "print('Found %s unique tokens.' % len(word_index))\n",
    "\n",
    "# padding each sequence with 0 to make the input constant len of maximum size sequence\n",
    "data = pad_sequences(sequences,padding='post',maxlen=1000)\n",
    "\n",
    "# shuffling and creating test and train set\n",
    "indices = np.arange(data.shape[0])\n",
    "np.random.shuffle(indices)\n",
    "data = data[indices]\n",
    "label = label[indices]\n",
    "\n",
    "test_size = 0.2\n",
    "\n",
    "test_samples = int(test_size*data.shape[0])\n",
    "train_X = data[:-test_samples]\n",
    "train_y = label[:-test_samples]\n",
    "test_X = data[-test_samples:]\n",
    "test_y = label[-test_samples:]"
   ]
  },
  {
   "cell_type": "code",
   "execution_count": 25,
   "metadata": {},
   "outputs": [
    {
     "data": {
      "text/plain": [
       "(44184, 1000)"
      ]
     },
     "execution_count": 25,
     "metadata": {},
     "output_type": "execute_result"
    }
   ],
   "source": [
    "train_X.shape"
   ]
  },
  {
   "cell_type": "code",
   "execution_count": 27,
   "metadata": {},
   "outputs": [],
   "source": [
    "embedding_dim = 100\n",
    "# +1 for the 0th index corresponding <unk> words \n",
    "vocab_size = len(word_index) + 1\n",
    "units = 100\n",
    "timesteps = train_X.shape[1]"
   ]
  },
  {
   "cell_type": "code",
   "execution_count": 26,
   "metadata": {},
   "outputs": [
    {
     "name": "stdout",
     "output_type": "stream",
     "text": [
      "words found : 400000\n"
     ]
    }
   ],
   "source": [
    "embeddings_index = {}\n",
    "f = open('glove.6B.100d.txt', encoding='utf-8')\n",
    "\n",
    "for line in f:\n",
    "    values = line.split()\n",
    "    word = values[0]\n",
    "    coefs = np.asarray(values[1:], dtype='float32')\n",
    "    embeddings_index[word] = coefs\n",
    "    \n",
    "f.close()\n",
    "print('words found :',len(embeddings_index))"
   ]
  },
  {
   "cell_type": "code",
   "execution_count": 28,
   "metadata": {},
   "outputs": [],
   "source": [
    "embedding_matrix = np.zeros((vocab_size, embedding_dim))\n",
    "\n",
    "for word, i in word_index.items():\n",
    "    embedding_vector = embeddings_index.get(word)\n",
    "    # if word not in embedding_index then the wordvec remains 0s\n",
    "    if embedding_vector is not None:\n",
    "        embedding_matrix[i] = embedding_vector"
   ]
  },
  {
   "cell_type": "code",
   "execution_count": 29,
   "metadata": {},
   "outputs": [
    {
     "data": {
      "text/plain": [
       "(187280, 100)"
      ]
     },
     "execution_count": 29,
     "metadata": {},
     "output_type": "execute_result"
    }
   ],
   "source": [
    "embedding_matrix.shape"
   ]
  },
  {
   "cell_type": "code",
   "execution_count": 30,
   "metadata": {
    "scrolled": true
   },
   "outputs": [
    {
     "name": "stdout",
     "output_type": "stream",
     "text": [
      "_________________________________________________________________\n",
      "Layer (type)                 Output Shape              Param #   \n",
      "=================================================================\n",
      "embedding (Embedding)        (None, 1000, 100)         18728000  \n",
      "_________________________________________________________________\n",
      "conv1d (Conv1D)              (None, 997, 64)           25664     \n",
      "_________________________________________________________________\n",
      "lstm (LSTM)                  (None, 100)               66000     \n",
      "_________________________________________________________________\n",
      "dense (Dense)                (None, 1)                 101       \n",
      "=================================================================\n",
      "Total params: 18,819,765\n",
      "Trainable params: 91,765\n",
      "Non-trainable params: 18,728,000\n",
      "_________________________________________________________________\n"
     ]
    }
   ],
   "source": [
    "model = tf.keras.Sequential()\n",
    "model.add(tf.keras.layers.Embedding(vocab_size,\n",
    "                                    embedding_dim,\n",
    "                                    weights = [embedding_matrix],\n",
    "                                    input_length = train_X.shape[1],\n",
    "                                    trainable=False))\n",
    "# model.add(tf.keras.layers.Flatten())\n",
    "# model.add(tf.keras.layers.Dropout(0.2))\n",
    "model.add(tf.keras.layers.Conv1D(64,4,activation='relu'))\n",
    "# model.add(tf.keras.layers.MaxPool1D(pool_size=4))\n",
    "model.add(tf.keras.layers.LSTM(units,\n",
    "                               input_shape = (timesteps,embedding_dim),\n",
    "                               recurrent_activation = 'sigmoid',\n",
    "                               return_sequences = False,             # this means to carry forward the OUTPUT of units\n",
    "                               recurrent_initializer = 'glorot_uniform',\n",
    "                               ))\n",
    "model.add(tf.keras.layers.Dense(1, activation='sigmoid'))\n",
    "\n",
    "model.compile(optimizer='adam', loss='binary_crossentropy', metrics=['accuracy'])\n",
    "model.summary()"
   ]
  },
  {
   "cell_type": "code",
   "execution_count": 31,
   "metadata": {},
   "outputs": [
    {
     "name": "stdout",
     "output_type": "stream",
     "text": [
      "Epoch 1/2\n",
      "44184/44184 [==============================] - 2529s 57ms/step - loss: 0.4728 - acc: 0.8150\n",
      "Epoch 2/2\n",
      "44184/44184 [==============================] - 2439s 55ms/step - loss: 0.3251 - acc: 0.8612\n"
     ]
    },
    {
     "data": {
      "text/plain": [
       "<tensorflow.python.keras.callbacks.History at 0x20c95c2ce10>"
      ]
     },
     "execution_count": 31,
     "metadata": {},
     "output_type": "execute_result"
    }
   ],
   "source": [
    "model.fit(train_X, train_y, epochs=2)"
   ]
  },
  {
   "cell_type": "code",
   "execution_count": 35,
   "metadata": {},
   "outputs": [
    {
     "name": "stdout",
     "output_type": "stream",
     "text": [
      "LSTM Network Model\n",
      "\n",
      "--------Confusion Matrix-------\n",
      "\n",
      "True          0     1    All\n",
      "Predicted                   \n",
      "0          8586   537   9123\n",
      "1           377  1546   1923\n",
      "All        8963  2083  11046\n",
      "\n",
      "Accuracy : 91.73%\n",
      "\n",
      "Prediction of Real News (0)\n",
      "Precision : 94.11%\n",
      "Recall : 95.79%\n",
      "F1Score : 94.95%\n",
      "\n",
      "Prediction of Fake News (1)\n",
      "Precision : 80.40%\n",
      "Recall : 74.22%\n",
      "F1Score : 77.18%\n"
     ]
    }
   ],
   "source": [
    "test_pred = model.predict(test_X)\n",
    "test_pred = ((test_pred>0.5)*1).flatten()\n",
    "### confusion matrix ###\n",
    "cm = pd.crosstab(test_pred, test_y, rownames=['Predicted'], colnames=['True'], margins = True)\n",
    "\n",
    "### classification report ###\n",
    "prf_fake = precision_recall_fscore_support(test_y,test_pred, pos_label=1, average='binary')\n",
    "prf_real = precision_recall_fscore_support(test_y,test_pred, pos_label=0, average='binary')\n",
    "\n",
    "acc = np.mean(np.equal(test_y,test_pred))\n",
    "\n",
    "print(\"LSTM Network Model\\n\")\n",
    "print('--------Confusion Matrix-------\\n')\n",
    "print(cm)\n",
    "print(\"\\nAccuracy : {:.2f}%\".format(acc*100))\n",
    "print('\\nPrediction of Real News (0)')\n",
    "print(\"Precision : {:.2f}%\".format(prf_real[0]*100))\n",
    "print(\"Recall : {:.2f}%\".format(prf_real[1]*100))\n",
    "print(\"F1Score : {:.2f}%\".format(prf_real[2]*100))\n",
    "print('\\nPrediction of Fake News (1)')\n",
    "print(\"Precision : {:.2f}%\".format(prf_fake[0]*100))\n",
    "print(\"Recall : {:.2f}%\".format(prf_fake[1]*100))\n",
    "print(\"F1Score : {:.2f}%\".format(prf_fake[2]*100))"
   ]
  },
  {
   "cell_type": "code",
   "execution_count": null,
   "metadata": {},
   "outputs": [],
   "source": []
  },
  {
   "cell_type": "code",
   "execution_count": null,
   "metadata": {
    "collapsed": true
   },
   "outputs": [],
   "source": []
  }
 ],
 "metadata": {
  "kernelspec": {
   "display_name": "Python 3",
   "language": "python",
   "name": "python3"
  },
  "language_info": {
   "codemirror_mode": {
    "name": "ipython",
    "version": 3
   },
   "file_extension": ".py",
   "mimetype": "text/x-python",
   "name": "python",
   "nbconvert_exporter": "python",
   "pygments_lexer": "ipython3",
   "version": "3.7.1"
  }
 },
 "nbformat": 4,
 "nbformat_minor": 2
}
